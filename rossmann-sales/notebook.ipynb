{
 "cells": [
  {
   "cell_type": "markdown",
   "id": "55aac8ef-00fe-4764-a18a-d999d50fcc10",
   "metadata": {},
   "source": [
    "# Rossman Stors Sales Analysis Using Linear Regression"
   ]
  },
  {
   "cell_type": "markdown",
   "id": "c82f84c5",
   "metadata": {},
   "source": [
    "## Problem Statement / Business Understanding"
   ]
  },
  {
   "cell_type": "markdown",
   "id": "4a6d4505-ee96-4fd1-ad58-a62f5d73e5c9",
   "metadata": {},
   "source": [
    "Rossmann operates over 3,000 drug stores in 7 European countries. Currently, Rossmann store managers are tasked with predicting their daily sales for up to **six weeks** in advance. \n",
    "\n",
    "Store sales are influenced by many factors, including promotions, competition, school and state holidays, seasonality, and locality. With thousands of individual managers predicting sales based on their unique circumstances, the accuracy of results can be quite varied.\n",
    "\n",
    "In this exercise, we are going to **predict 6 weeks of daily sales for 1,115 stores located across Germany**. \n",
    "\n",
    "Reliable sales forecasts enable store managers to create effective staff schedules that increase productivity and motivation. By helping Rossmann create a robust **prediction** model, we will help store managers stay focused on what’s most important to them: their customers and their teams!"
   ]
  },
  {
   "cell_type": "markdown",
   "id": "b48fc6cc",
   "metadata": {},
   "source": [
    "### Hypothesis Statement"
   ]
  },
  {
   "cell_type": "markdown",
   "id": "a91dbebf-95d3-4e96-af83-6a3e066f8e4e",
   "metadata": {},
   "source": [
    "H0: There is no direct correlation between numbers of Rossmann customers and volumes of sales at the stores.\n",
    "\n",
    "H1: The number of customers influence the volumes of sales at Rossmann stores. The greater the number of customers, the higher the volume of sales. The less the number of customers, the lower the volume of sales."
   ]
  },
  {
   "cell_type": "markdown",
   "id": "80ca898c",
   "metadata": {},
   "source": [
    "## Data Understanding"
   ]
  },
  {
   "cell_type": "markdown",
   "id": "a4f11907-d1cb-4136-b60a-6b9efec7a39a",
   "metadata": {},
   "source": [
    "We have historical sales data for 1,115 Rossmann stores. The task is to forecast the \"Sales\" column for the test set. Note that some stores in the dataset were temporarily closed for refurbishment."
   ]
  },
  {
   "cell_type": "markdown",
   "id": "e97c8cd9-4a7a-48cb-9272-6cd54ff5dc2a",
   "metadata": {},
   "source": [
    "### Files"
   ]
  },
  {
   "cell_type": "markdown",
   "id": "4883103f-104f-4d4b-9b87-9e28068db8da",
   "metadata": {},
   "source": [
    "- `train.csv` - historical data including Sales\n",
    "- `test.csv` - historical data excluding Sales\n",
    "- `sample_submission.csv` - a sample submission file in the correct format\n",
    "- `store.csv` - supplemental information about the stores"
   ]
  },
  {
   "cell_type": "markdown",
   "id": "e5fe2b85",
   "metadata": {},
   "source": [
    "## Data Preparation"
   ]
  },
  {
   "cell_type": "markdown",
   "id": "c4f3a32d-1959-4056-a7fb-075c4f2e0c1f",
   "metadata": {},
   "source": [
    "### Loading Modules"
   ]
  },
  {
   "cell_type": "code",
   "execution_count": null,
   "id": "a315f48c-9519-424a-839f-23a8b2a14492",
   "metadata": {},
   "outputs": [],
   "source": []
  },
  {
   "cell_type": "markdown",
   "id": "899dc508",
   "metadata": {},
   "source": [
    "## Data Modelling"
   ]
  },
  {
   "cell_type": "markdown",
   "id": "fed16507-5946-4303-b94d-db7f5d691152",
   "metadata": {},
   "source": [
    "## Conclusions"
   ]
  },
  {
   "cell_type": "markdown",
   "id": "df6a5fd4-617a-4c47-9e6d-af25fe7a0921",
   "metadata": {},
   "source": [
    "## Next Steps"
   ]
  }
 ],
 "metadata": {
  "kernelspec": {
   "display_name": "Python 3 (ipykernel)",
   "language": "python",
   "name": "python3"
  },
  "language_info": {
   "codemirror_mode": {
    "name": "ipython",
    "version": 3
   },
   "file_extension": ".py",
   "mimetype": "text/x-python",
   "name": "python",
   "nbconvert_exporter": "python",
   "pygments_lexer": "ipython3",
   "version": "3.12.2"
  }
 },
 "nbformat": 4,
 "nbformat_minor": 5
}
